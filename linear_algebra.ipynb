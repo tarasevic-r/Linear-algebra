{
 "cells": [
  {
   "cell_type": "markdown",
   "metadata": {},
   "source": [
    "# Linear algebra theory"
   ]
  },
  {
   "cell_type": "code",
   "execution_count": 1,
   "metadata": {},
   "outputs": [],
   "source": [
    "import numpy as np\n",
    "import matplotlib.pyplot as plt"
   ]
  },
  {
   "cell_type": "markdown",
   "metadata": {},
   "source": [
    "## 1) a)\n",
    "Given points $p_1 = (x_1, y_1) = (2, 3)$ and $p_2 = (x_2, y_2) = (3, 0)$, find line connecting two points $y = w_0 + w_1x$ and write linear regression in the matrix form of $A\\vec{w} = \\vec{y}$, with coefficient matrix $A$, parameter vector $\\vec{w^T} = (w_0, w_1)$  and dependent variable vector $\\vec{y}$. Find $w_0$ and $w_1$. \n",
    "\n",
    "\n",
    "### Answer:\n",
    "given two points (x1, y1) and (x2, y2) the equation for the line between them is:\n",
    "$y = m\\cdot x + b$\n"
   ]
  },
  {
   "cell_type": "code",
   "execution_count": 2,
   "metadata": {},
   "outputs": [],
   "source": [
    "def line_fun(x0, m, b):\n",
    "    y = m * x0 + b\n",
    "    return y"
   ]
  },
  {
   "cell_type": "code",
   "execution_count": 3,
   "metadata": {},
   "outputs": [],
   "source": [
    "X = x1, x2 = 2,3\n",
    "Y = y1, y2 = 3,0"
   ]
  },
  {
   "cell_type": "code",
   "execution_count": 4,
   "metadata": {},
   "outputs": [],
   "source": [
    "w_0 = slope = (y1-y2)/(x1-x2)\n",
    "w_1 = (x1*y2 - x2*y1)/(x1-x2)"
   ]
  },
  {
   "cell_type": "markdown",
   "metadata": {},
   "source": [
    "Check if our line connects given points"
   ]
  },
  {
   "cell_type": "code",
   "execution_count": 5,
   "metadata": {},
   "outputs": [
    {
     "data": {
      "text/plain": [
       "(True, True)"
      ]
     },
     "execution_count": 5,
     "metadata": {},
     "output_type": "execute_result"
    }
   ],
   "source": [
    "line_fun(x1, m=w_0, b=w_1) == y1, line_fun(x2, m=w_0, b=w_1) == y2"
   ]
  },
  {
   "cell_type": "code",
   "execution_count": 8,
   "metadata": {},
   "outputs": [
    {
     "name": "stdout",
     "output_type": "stream",
     "text": [
      "Estimated line equation coefficients: \n",
      " w_0: -3 \n",
      " w_1: 9\n"
     ]
    }
   ],
   "source": [
    "print(\"Estimated line equation coefficients: \\n w_0: %d \\n w_1: %d\" % (w_0, w_1))"
   ]
  },
  {
   "cell_type": "markdown",
   "metadata": {},
   "source": [
    "***\n",
    "## 1) b)"
   ]
  },
  {
   "cell_type": "markdown",
   "metadata": {},
   "source": [
    "We can get our parameter estimates in the form of matrix multiplications (formula shown below)\n",
    "$$\\hat{\\beta} = (X^TX)^{-1}X^TY$$"
   ]
  },
  {
   "cell_type": "code",
   "execution_count": 9,
   "metadata": {},
   "outputs": [
    {
     "data": {
      "text/plain": [
       "array([[1., 2.],\n",
       "       [1., 3.]])"
      ]
     },
     "execution_count": 9,
     "metadata": {},
     "output_type": "execute_result"
    }
   ],
   "source": [
    "X_mat=np.vstack((np.ones(len(X)), X)).T\n",
    "X_mat"
   ]
  },
  {
   "cell_type": "code",
   "execution_count": 10,
   "metadata": {},
   "outputs": [],
   "source": [
    "beta_hat = np.linalg.inv(X_mat.T.dot(X_mat)).dot(X_mat.T).dot(Y)"
   ]
  },
  {
   "cell_type": "code",
   "execution_count": 12,
   "metadata": {},
   "outputs": [
    {
     "data": {
      "text/plain": [
       "array([ 9., -3.])"
      ]
     },
     "execution_count": 12,
     "metadata": {},
     "output_type": "execute_result"
    }
   ],
   "source": [
    "beta_hat"
   ]
  },
  {
   "cell_type": "markdown",
   "metadata": {},
   "source": [
    "We achieved same parameters as above"
   ]
  },
  {
   "cell_type": "markdown",
   "metadata": {},
   "source": [
    "## 2)\n",
    " What is the unit vector in the same direction as (3, 2, 2, 2, 2)?\n",
    " \n",
    "### Answer:\n",
    "To find the unit vector in the same direction as a vector, we divide it by its magnitude. "
   ]
  },
  {
   "cell_type": "code",
   "execution_count": 14,
   "metadata": {},
   "outputs": [],
   "source": [
    "def vector_len(vector: list):\n",
    "    return np.sqrt(np.sum([x**2 for x in vector]))"
   ]
  },
  {
   "cell_type": "code",
   "execution_count": 15,
   "metadata": {},
   "outputs": [
    {
     "data": {
      "text/plain": [
       "5.0"
      ]
     },
     "execution_count": 15,
     "metadata": {},
     "output_type": "execute_result"
    }
   ],
   "source": [
    "vec = [3, 2, 2, 2, 2]\n",
    "vec_mag = vector_len(vec)\n",
    "vec_mag"
   ]
  },
  {
   "cell_type": "code",
   "execution_count": 16,
   "metadata": {},
   "outputs": [
    {
     "name": "stdout",
     "output_type": "stream",
     "text": [
      "The unit vector in the same direction of given vector:  [0.6 0.4 0.4 0.4 0.4]\n"
     ]
    }
   ],
   "source": [
    "print(\"The unit vector in the same direction of given vector: \", vec/vec_mag)"
   ]
  },
  {
   "cell_type": "markdown",
   "metadata": {},
   "source": [
    "***\n",
    "## 3) \n",
    "What is the projection of the vector (3, 5, −9) onto the direction (0.6, −0.8, 0) ?\n",
    "\n",
    "### Answer:\n",
    "The projection of $\\vec{a}$ onto $\\vec{b}$ is defined as:  \n",
    "$ \\frac{a\\cdot b}{||b||^2}\\cdot b $"
   ]
  },
  {
   "cell_type": "code",
   "execution_count": 17,
   "metadata": {},
   "outputs": [],
   "source": [
    "a = [3,5,-9]\n",
    "b = [0.6, -0.8, 0]"
   ]
  },
  {
   "cell_type": "code",
   "execution_count": 18,
   "metadata": {},
   "outputs": [
    {
     "name": "stdout",
     "output_type": "stream",
     "text": [
      "projection of vector a = <[3, 5, -9]> into direction of vector b = <[0.6, -0.8, 0]> is [-1.32, 1.76, -0.0]\n"
     ]
    }
   ],
   "source": [
    "projection = [round(x * (np.dot(a, b) / np.dot(b, b)),2) for x in b]\n",
    "print(\"projection of vector a = <{}> into direction of vector b = <{}> is {}\".format(a,b,projection))"
   ]
  }
 ],
 "metadata": {
  "kernelspec": {
   "display_name": "Python 3",
   "language": "python",
   "name": "python3"
  },
  "language_info": {
   "codemirror_mode": {
    "name": "ipython",
    "version": 3
   },
   "file_extension": ".py",
   "mimetype": "text/x-python",
   "name": "python",
   "nbconvert_exporter": "python",
   "pygments_lexer": "ipython3",
   "version": "3.7.6"
  }
 },
 "nbformat": 4,
 "nbformat_minor": 4
}
